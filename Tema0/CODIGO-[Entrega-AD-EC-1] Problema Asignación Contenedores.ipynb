{
 "cells": [
  {
   "cell_type": "markdown",
   "metadata": {},
   "source": [
    "# 0. Problema de asignación de contenedores"
   ]
  },
  {
   "cell_type": "markdown",
   "metadata": {},
   "source": [
    "ENUNCIADO: \n",
    "\n",
    "Disponemos de k camiones y m contenedores que deben ser transportados. Cada contenedor tiene un peso delimitado por wi. Tu tarea consiste en asignar todos los contenedores entre todos los camiones de manera que se reparta el peso total de manera equitativa. Tienes como ayuda auxiliar parte del código implementado. Recuerda que existe más de una manera correcta de realizar el ejercicio."
   ]
  },
  {
   "cell_type": "markdown",
   "metadata": {},
   "source": [
    "En primer lugar realizamos el set-up del problema..."
   ]
  },
  {
   "cell_type": "code",
   "execution_count": 2,
   "metadata": {},
   "outputs": [],
   "source": [
    "import random\n",
    "import numpy as np"
   ]
  },
  {
   "cell_type": "code",
   "execution_count": 3,
   "metadata": {},
   "outputs": [],
   "source": [
    "# Define variables\n",
    "k = 5\n",
    "w = [77,72,89,30,29,19,34,68,35,44,55,92,93,78,14,36,95,56,87,18,63,51,85,37,37,1,89,16,43,44,35,16,6,12,56,92,51,64,49,93,22,77,4,74,64,40,9,73,77,9]\n",
    "m = len(w)"
   ]
  },
  {
   "cell_type": "code",
   "execution_count": 4,
   "metadata": {},
   "outputs": [
    {
     "name": "stdout",
     "output_type": "stream",
     "text": [
      "# contenedores: 50\n",
      "Peso total: 2510\n",
      "# camiones: 5\n",
      "Estimación peso por camion: 502.0\n"
     ]
    }
   ],
   "source": [
    "print(\"# contenedores:\",m)\n",
    "print(\"Peso total:\", sum(w))\n",
    "print(\"# camiones:\",k)\n",
    "print(\"Estimación peso por camion:\", sum(w)/k)"
   ]
  },
  {
   "cell_type": "markdown",
   "metadata": {},
   "source": [
    "Nuestro objetivo consiste en diseñar e implementar un algoritmo que realice un reparto equitativo, pero...\n",
    "¿Cómo podemos afrontar esta tarea?\n",
    "\n",
    "Para abordar este problema de optimización combinatoria, vamos a necesitar considerar:\n",
    "\n",
    "(i) la representación y formalización del problema,\n",
    "\n",
    "(ii) la aproximación y adecuación de la implementación, y \n",
    "\n",
    "(iii) la manera en la que vamos a evaluar el rendimiento de nuestros algoritmos.\n",
    "\n",
    "\n",
    "Es decir, tenemos que tener en cuenta\n",
    "<b> el espacio de estados </b>,\n",
    "<b> el algoritmo de optimización </b> y\n",
    "<b> la función objetivo </b>."
   ]
  },
  {
   "cell_type": "code",
   "execution_count": 5,
   "metadata": {},
   "outputs": [
    {
     "name": "stdout",
     "output_type": "stream",
     "text": [
      "Solución repartir cajas a camiones pesos ordenados ascendente: \n",
      " [0, 0, 3, 1, 2, 0, 3, 4, 1, 4, 1, 3, 1, 0, 1, 2, 0, 2, 1, 0, 1, 0, 2, 3, 4, 2, 4, 4, 2, 1, 0, 2, 1, 3, 3, 4, 4, 2, 0, 2, 4, 2, 3, 3, 3, 3, 4, 4, 1, 0] \n",
      " \n",
      "Solución repartir cajas a camiones pesos ordenados descendente: \n",
      " [2, 4, 3, 3, 2, 0, 4, 3, 0, 2, 2, 0, 2, 0, 1, 2, 4, 3, 2, 4, 0, 0, 1, 3, 4, 0, 4, 2, 1, 3, 1, 3, 2, 0, 4, 1, 1, 1, 4, 3, 1, 3, 1, 1, 2, 0, 3, 0, 4, 4] \n",
      " \n",
      "Solución repartir cajas de camión en camión ascendente: \n",
      " [0, 1, 2, 3, 4, 0, 1, 2, 3, 4, 0, 1, 2, 3, 4, 0, 1, 2, 3, 4, 0, 1, 2, 3, 4, 0, 1, 2, 3, 4, 0, 1, 2, 3, 4, 0, 1, 2, 3, 4, 0, 1, 2, 3, 4, 0, 1, 2, 3, 4] \n",
      " \n",
      "Solución repartir cajas de camión en camión descendente: \n",
      " [4, 3, 2, 1, 0, 4, 3, 2, 1, 0, 4, 3, 2, 1, 0, 4, 3, 2, 1, 0, 4, 3, 2, 1, 0, 4, 3, 2, 1, 0, 4, 3, 2, 1, 0, 4, 3, 2, 1, 0, 4, 3, 2, 1, 0, 4, 3, 2, 1, 0] \n",
      " \n",
      "Solución repartir cajas de manera aleatoria: \n",
      " [4, 3, 4, 4, 0, 2, 1, 2, 2, 2, 4, 1, 3, 1, 1, 1, 4, 3, 1, 4, 3, 1, 2, 1, 3, 2, 0, 4, 4, 1, 2, 4, 4, 1, 2, 1, 1, 1, 1, 2, 2, 2, 1, 1, 3, 3, 3, 2, 3, 2] \n",
      " \n"
     ]
    }
   ],
   "source": [
    "# ----------- Propuesta de implementación y descripción de la aproximación -----------\n",
    "#Visto que tenemos \"m\" contenedores y \"k\" camiones, y que el peso de cada caja es conocido, mi planteamiento es el siguiente:\n",
    "#Tendremos un array de longitud k, en el que cada posicion \"i\" se representara el peso del camión de su mismo índice.\n",
    "#Por lo que, se cojerá cada contenedor de mayor a menor peso y se le asignará al camión con menor peso actualmente. \n",
    "#Es decir, que al camión \"imin\", se le asignará el valor del contenedor actual, y se actualizará el índice del camión de menor peso.\n",
    "#Así hasta que no queen mas contenedores.\n",
    "\n",
    "###################################################\n",
    "\n",
    "def repartir_cajas_a_camiones_pesos_ordenados(k, w, m, is_reverse = False):\n",
    "\n",
    "    #ordenar lista de contenedores sin perder el índice del peso\n",
    "    lista_peso_indice = [(w[i], i) for i in range(m)]\n",
    "    lista_peso_indice = sorted(lista_peso_indice, key=lambda x: x[0], reverse = is_reverse)\n",
    "    #definir el camión de menor peso y su peso\n",
    "    imin = 0\n",
    "    pesomin = 0\n",
    "    #crear una lista de camiones y sus pesos\n",
    "    peso_por_camion = [0 for x in range(k)]\n",
    "    #crear una lista que representa cada caja y el valor sera el número del camión asignado\n",
    "    camion_por_caja = [0 for x in range(m)]\n",
    "\n",
    "\n",
    "    #iterar por cada peso\n",
    "    for i in range(m):\n",
    "        (pesoactual, indiceactual)  = lista_peso_indice[i]\n",
    "        peso_por_camion[imin] = pesomin + pesoactual\n",
    "        #asignar en qué camion va la caja actual\n",
    "        camion_por_caja[indiceactual] = imin\n",
    "        \n",
    "        #actualizar peso min\n",
    "        pesomin = min(peso_por_camion)\n",
    "        imin = peso_por_camion.index(pesomin)\n",
    "        \n",
    "    # print(\"PESOS DE LAS CAJAS QUE TENEMOS: \")\n",
    "    # print(w)\n",
    "    # print(\"COMO SE HAN ORDENADO LAS CAJAS (PESO, ÍNDICE): \")\n",
    "    # print(lista_peso_indice)\n",
    "    # print(\"SUMA DE CAJAS EN CADA CAMIÓN: \")\n",
    "    # print(peso_por_camion)\n",
    "\n",
    "    return camion_por_caja\n",
    "\n",
    "def repartir_cajas_en_orden_ascendente(k, w, m):\n",
    "\n",
    "    camion_por_caja = []\n",
    "    for peso_index in range(m):\n",
    "        camion_por_caja.append(peso_index % k)\n",
    "\n",
    "    return camion_por_caja\n",
    "\n",
    "def repartir_cajas_en_orden_descendente(k, w, m):\n",
    "\n",
    "    camion_por_caja = []\n",
    "    for peso_index in reversed(range(m)):\n",
    "        camion_por_caja.append(peso_index % k)\n",
    "\n",
    "    return camion_por_caja\n",
    "\n",
    "def repartir_cajas_random_uniform(k, w, m):\n",
    "\n",
    "    camion_por_caja = []\n",
    "    for peso_index in range(m):\n",
    "        camion_por_caja.append(random.randint(0,k-1))\n",
    "\n",
    "    return camion_por_caja\n",
    "\n",
    "\n",
    "####################################################    \n",
    "\n",
    "# Por ejemplo puedes elaborar un par de soluciones candidatas\n",
    "\n",
    "\n",
    "solucion_1 = repartir_cajas_a_camiones_pesos_ordenados(k, w, m, True)\n",
    "print(f\"Solución repartir cajas a camiones pesos ordenados ascendente: \\n {solucion_1} \\n \")\n",
    "\n",
    "solucion_2 = repartir_cajas_a_camiones_pesos_ordenados(k, w, m, False)\n",
    "print(f\"Solución repartir cajas a camiones pesos ordenados descendente: \\n {solucion_2} \\n \")\n",
    "\n",
    "solucion_3 = repartir_cajas_en_orden_ascendente(k, w, m)\n",
    "print(f\"Solución repartir cajas de camión en camión ascendente: \\n {solucion_3} \\n \")\n",
    "\n",
    "solucion_4 = repartir_cajas_en_orden_descendente(k, w, m)\n",
    "print(f\"Solución repartir cajas de camión en camión descendente: \\n {solucion_4} \\n \")\n",
    "\n",
    "solucion_5 = repartir_cajas_random_uniform(k, w, m)\n",
    "print(f\"Solución repartir cajas de manera aleatoria: \\n {solucion_5} \\n \")\n",
    "\n"
   ]
  },
  {
   "cell_type": "code",
   "execution_count": 6,
   "metadata": {},
   "outputs": [
    {
     "name": "stdout",
     "output_type": "stream",
     "text": [
      "[0 0 0 0 0 0 0 0 0 0 0 0 0 0 0 0 0 0 0 0 0 0 0 0 0 0 0 0 0 0 0 0 0 0 0 0 0\n",
      " 0 0 0 0 0 0 0 0 0 0 0 0 0]\n"
     ]
    },
    {
     "data": {
      "text/plain": [
       "array([1, 2, 3, 4, 5])"
      ]
     },
     "execution_count": 6,
     "metadata": {},
     "output_type": "execute_result"
    }
   ],
   "source": [
    "# Ejemplo de listas en numpy\n",
    "\n",
    "arr = np.zeros(50, dtype=int)\n",
    "print(arr)\n",
    "np.array([1,2,3,4,5], dtype=int) "
   ]
  },
  {
   "cell_type": "markdown",
   "metadata": {},
   "source": [
    "Nuestro siguiente paso debería tener en cuenta el diseño de la función que vamos a utilizar para evaluar soluciones, es decir, la función objetivo. Esta función debe de tener en cuenta como vamos a evaluar la calidad de una solución (buena o mala, mala o muy mala, etc). Normalmente, esto lo haremos mediante un valor cuantitativo resultado de procesar una posible solución candidata por medio de una función matemática.\n",
    "\n",
    "En este caso, algo relativamente sencillo sería calcular la distancia entre el peso real asignado al camión contra el peso estimado como correcto. "
   ]
  },
  {
   "cell_type": "code",
   "execution_count": 7,
   "metadata": {},
   "outputs": [],
   "source": [
    "# Implementación de la función objetivo\n",
    "\n",
    "def calcula_desviacion(candidato, pesos, camiones):\n",
    "\n",
    "    # Conseguir array del peso total que lleva cada camión\n",
    "    pesos_camiones = calcula_peso_camiones(candidato, pesos, camiones)\n",
    "\n",
    "    # Cual sería el peso ideal si esta se distribuyese uniformemente\n",
    "    media_perfecta = sum(pesos) / camiones\n",
    "\n",
    "    # Sumatorio de respuesta\n",
    "    desvio_sobre_media = 0\n",
    "    \n",
    "    # Por cada camión se suma la diferencia entre la media perfecta y el peso real del camión\n",
    "    for peso_de_este_camion in pesos_camiones:\n",
    "        desvio_sobre_media += abs(media_perfecta - peso_de_este_camion)\n",
    "    \n",
    "    return desvio_sobre_media\n",
    "\n",
    "def calcula_peso_camiones(candidato, pesos, camiones):  \n",
    "    pesos_camiones = [0 for i in range(camiones)]\n",
    "\n",
    "    # A cada camión se le suma el peso de las cajas que tiene asignadas\n",
    "    for indice_peso, camion_asignado  in enumerate(candidato):\n",
    "        pesos_camiones[camion_asignado] += pesos[indice_peso]\n",
    "    \n",
    "    return pesos_camiones\n",
    "    "
   ]
  },
  {
   "cell_type": "code",
   "execution_count": 8,
   "metadata": {},
   "outputs": [
    {
     "name": "stdout",
     "output_type": "stream",
     "text": [
      "Desviación de la primera solución candidata:  6.0\n",
      "Desviación de la segunda solución candidata:  112.0\n",
      "Desviación de la tercera solución candidata:  312.0\n",
      "Desviación de la cuarta solución candidata:  312.0\n",
      "Desviación de la quinta solución candidata:  882.0\n"
     ]
    }
   ],
   "source": [
    "print(\"Desviación de la primera solución candidata: \", calcula_desviacion(solucion_1, w, k))\n",
    "print(\"Desviación de la segunda solución candidata: \", calcula_desviacion(solucion_2, w, k))\n",
    "print(\"Desviación de la tercera solución candidata: \", calcula_desviacion(solucion_3, w, k))\n",
    "print(\"Desviación de la cuarta solución candidata: \", calcula_desviacion(solucion_4, w, k))\n",
    "print(\"Desviación de la quinta solución candidata: \", calcula_desviacion(solucion_5, w, k))"
   ]
  },
  {
   "cell_type": "markdown",
   "metadata": {},
   "source": [
    "Ahora que somos capaces de evaluar soluciones candidatas, es el momento de diseñar un algoritmo capaz de evolucionar soluciones candidatas hasta encontrar una solución de alta calidad, un óptimo global."
   ]
  },
  {
   "cell_type": "code",
   "execution_count": 10,
   "metadata": {
    "collapsed": true
   },
   "outputs": [
    {
     "name": "stdout",
     "output_type": "stream",
     "text": [
      "Solución óptima: [0, 0, 3, 1, 2, 0, 3, 4, 1, 4, 1, 3, 1, 0, 1, 2, 0, 2, 1, 0, 1, 0, 2, 3, 4, 2, 4, 4, 2, 1, 0, 2, 1, 3, 3, 4, 4, 2, 0, 2, 4, 2, 3, 3, 3, 3, 4, 4, 1, 0]\n",
      "Interpretación de la solución: \n",
      "La caja número 0 que pesa 77kg va al camión número 0\n",
      "La caja número 1 que pesa 72kg va al camión número 0\n",
      "La caja número 2 que pesa 89kg va al camión número 3\n",
      "La caja número 3 que pesa 30kg va al camión número 1\n",
      "La caja número 4 que pesa 29kg va al camión número 2\n",
      "La caja número 5 que pesa 19kg va al camión número 0\n",
      "La caja número 6 que pesa 34kg va al camión número 3\n",
      "La caja número 7 que pesa 68kg va al camión número 4\n",
      "La caja número 8 que pesa 35kg va al camión número 1\n",
      "La caja número 9 que pesa 44kg va al camión número 4\n",
      "La caja número 10 que pesa 55kg va al camión número 1\n",
      "La caja número 11 que pesa 92kg va al camión número 3\n",
      "La caja número 12 que pesa 93kg va al camión número 1\n",
      "La caja número 13 que pesa 78kg va al camión número 0\n",
      "La caja número 14 que pesa 14kg va al camión número 1\n",
      "La caja número 15 que pesa 36kg va al camión número 2\n",
      "La caja número 16 que pesa 95kg va al camión número 0\n",
      "La caja número 17 que pesa 56kg va al camión número 2\n",
      "La caja número 18 que pesa 87kg va al camión número 1\n",
      "La caja número 19 que pesa 18kg va al camión número 0\n",
      "La caja número 20 que pesa 63kg va al camión número 1\n",
      "La caja número 21 que pesa 51kg va al camión número 0\n",
      "La caja número 22 que pesa 85kg va al camión número 2\n",
      "La caja número 23 que pesa 37kg va al camión número 3\n",
      "La caja número 24 que pesa 37kg va al camión número 4\n",
      "La caja número 25 que pesa 1kg va al camión número 2\n",
      "La caja número 26 que pesa 89kg va al camión número 4\n",
      "La caja número 27 que pesa 16kg va al camión número 4\n",
      "La caja número 28 que pesa 43kg va al camión número 2\n",
      "La caja número 29 que pesa 44kg va al camión número 1\n",
      "La caja número 30 que pesa 35kg va al camión número 0\n",
      "La caja número 31 que pesa 16kg va al camión número 2\n",
      "La caja número 32 que pesa 6kg va al camión número 1\n",
      "La caja número 33 que pesa 12kg va al camión número 3\n",
      "La caja número 34 que pesa 56kg va al camión número 3\n",
      "La caja número 35 que pesa 92kg va al camión número 4\n",
      "La caja número 36 que pesa 51kg va al camión número 4\n",
      "La caja número 37 que pesa 64kg va al camión número 2\n",
      "La caja número 38 que pesa 49kg va al camión número 0\n",
      "La caja número 39 que pesa 93kg va al camión número 2\n",
      "La caja número 40 que pesa 22kg va al camión número 4\n",
      "La caja número 41 que pesa 77kg va al camión número 2\n",
      "La caja número 42 que pesa 4kg va al camión número 3\n",
      "La caja número 43 que pesa 74kg va al camión número 3\n",
      "La caja número 44 que pesa 64kg va al camión número 3\n",
      "La caja número 45 que pesa 40kg va al camión número 3\n",
      "La caja número 46 que pesa 9kg va al camión número 4\n",
      "La caja número 47 que pesa 73kg va al camión número 4\n",
      "La caja número 48 que pesa 77kg va al camión número 1\n",
      "La caja número 49 que pesa 9kg va al camión número 0\n"
     ]
    }
   ],
   "source": [
    "## Desarrollo del algoritmo\n",
    "def encontrar_mejor_solucion(solution_list, w, k):\n",
    "\n",
    "    # Inicializar la mejor solución\n",
    "    best_solution = None\n",
    "    best_solution_desviation = float(\"inf\")\n",
    "\n",
    "    # Iterar por todas las soluciones\n",
    "    for solution in solution_list:\n",
    "        this_solution_desviation = calcula_desviacion(solucion_1, w, k)\n",
    "        # Actualizar la mejor solución\n",
    "        if this_solution_desviation < best_solution_desviation:\n",
    "            best_solution = solution\n",
    "            best_solution_desviation = this_solution_desviation\n",
    "\n",
    "    return best_solution\n",
    "\n",
    "# Crear una lista de soluciones\n",
    "solution_list = [solucion_1, solucion_2, solucion_3, solucion_4, solucion_5]\n",
    "\n",
    "mi_solucion = encontrar_mejor_solucion(solution_list, w, k)\n",
    "\n",
    "# # Mejor solución:\n",
    "# print(\"Solución óptima:\", solucion_teorica , mi_solucion)\n",
    "print(\"Solución óptima:\" , mi_solucion)\n",
    "print(\"Interpretación de la solución: \")\n",
    "for peso_index, peso in enumerate(w):\n",
    "    print(f\"La caja número {peso_index} que pesa {peso}kg va al camión número {mi_solucion[peso_index]}\")\n",
    "\n"
   ]
  }
 ],
 "metadata": {
  "kernelspec": {
   "display_name": "spyder-runtime",
   "language": "python",
   "name": "python3"
  },
  "language_info": {
   "codemirror_mode": {
    "name": "ipython",
    "version": 3
   },
   "file_extension": ".py",
   "mimetype": "text/x-python",
   "name": "python",
   "nbconvert_exporter": "python",
   "pygments_lexer": "ipython3",
   "version": "3.11.9"
  }
 },
 "nbformat": 4,
 "nbformat_minor": 2
}
